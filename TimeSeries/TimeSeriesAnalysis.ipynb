{
 "cells": [
  {
   "cell_type": "code",
   "execution_count": 6,
   "metadata": {},
   "outputs": [
    {
     "data": {
      "text/plain": [
       "(0.049177585979214206,\n",
       " 0.9624149471399424,\n",
       " 1,\n",
       " 3771,\n",
       " {'1%': -3.4320852842548395,\n",
       "  '5%': -2.8623067530084247,\n",
       "  '10%': -2.5671781529820348},\n",
       " 19576.11610399192)"
      ]
     },
     "execution_count": 6,
     "metadata": {},
     "output_type": "execute_result"
    }
   ],
   "source": [
    "from __future__ import print_function\n",
    "# Import the Time Series library\n",
    "import statsmodels.tsa.stattools as ts\n",
    "# Import Datetime and the Pandas DataReader\n",
    "from datetime import datetime\n",
    "import pandas_datareader.data as web\n",
    "# https://pandas-datareader.readthedocs.io/en/latest/remote_data.html\n",
    "# Download the Amazon OHLCV data from 1/1/2000 to 1/1/2015\n",
    "amzn = web.DataReader(\"AMZN\", \"yahoo\", datetime(2000,1,1), datetime(2015,1,1))\n",
    "# Output the results of the Augmented Dickey-Fuller test for Amazon\n",
    "# with a lag order value of 1\n",
    "ts.adfuller(amzn[\"Adj Close\"], 1)"
   ]
  },
  {
   "cell_type": "code",
   "execution_count": 7,
   "metadata": {},
   "outputs": [
    {
     "name": "stdout",
     "output_type": "stream",
     "text": [
      "Hurst(GBM): 0.4990242956728916\n",
      "Hurst(MR): 0.0002018805190243427\n",
      "Hurst(TR): 0.9537762183582111\n",
      "Hurst(AMZN): 0.4543374765712559\n"
     ]
    }
   ],
   "source": [
    "from __future__ import print_function\n",
    "\n",
    "from numpy import cumsum, log, polyfit, sqrt, std, subtract\n",
    "from numpy.random import randn\n",
    "\n",
    "def hurst(ts):\n",
    "    \"\"\"Returns the Hurst Exponent of the time series vector ts\"\"\"\n",
    "    # Create the range of lag values\n",
    "    lags = range(2, 100)\n",
    "    \n",
    "    # Calculate the array of the variances of the lagged differences\n",
    "    tau = [sqrt(std(subtract(ts[lag:], ts[:-lag]))) for lag in lags]\n",
    "    \n",
    "    # Use a linear fit to estimate the Hurst Exponent\n",
    "    poly = polyfit(log(lags), log(tau), 1)\n",
    "    \n",
    "    # Return the Hurst exponent from the polyfit output\n",
    "    return poly[0]*2.0\n",
    "\n",
    "# Create a Gometric Brownian Motion, Mean-Reverting and Trending Series\n",
    "gbm = log(cumsum(randn(100000))+1000)\n",
    "mr = log(randn(100000)+1000)\n",
    "tr = log(cumsum(randn(100000)+1)+1000)\n",
    "\n",
    "# Output the Hurst Exponent for each of the above series\n",
    "# and the price of Amazon (the Adjusted Close price) for\n",
    "# the ADF test given above in the article\n",
    "print(\"Hurst(GBM): %s\" % hurst(gbm))\n",
    "print(\"Hurst(MR): %s\" % hurst(mr))\n",
    "print(\"Hurst(TR): %s\" % hurst(tr))\n",
    "\n",
    "# Assuming you have run the above code to obtain ’amzn’!\n",
    "print(\"Hurst(AMZN): %s\" % hurst(amzn[\"Adj Close\"]))"
   ]
  },
  {
   "cell_type": "code",
   "execution_count": 36,
   "metadata": {},
   "outputs": [
    {
     "data": {
      "text/plain": [
       "[1, 2]"
      ]
     },
     "execution_count": 36,
     "metadata": {},
     "output_type": "execute_result"
    }
   ],
   "source": [
    "#tt = (amzn[\"Adj Close\"])\n",
    "#tau = [sqrt(std(subtract(tt[lag:], tt[:-lag]))) for lag in lags]\n",
    "a = [1,2,3,4,5]\n",
    "b = [3,3,3,6,7]\n",
    "a[:-3]"
   ]
  },
  {
   "cell_type": "code",
   "execution_count": 22,
   "metadata": {},
   "outputs": [
    {
     "data": {
      "text/plain": [
       "Date\n",
       "2000-01-05   -19.625000\n",
       "2000-01-06   -16.375000\n",
       "2000-01-07    -0.187500\n",
       "2000-01-10     3.625000\n",
       "2000-01-11    -2.812500\n",
       "2000-01-12    -5.625000\n",
       "2000-01-13    -0.812500\n",
       "2000-01-14     0.687500\n",
       "2000-01-18    -1.812500\n",
       "2000-01-19     2.562500\n",
       "2000-01-20     0.625000\n",
       "2000-01-21    -4.750000\n",
       "2000-01-24     5.375000\n",
       "2000-01-25     7.187500\n",
       "2000-01-26    -5.312500\n",
       "2000-01-27    -2.312500\n",
       "2000-01-28    -3.125000\n",
       "2000-01-31    -2.375000\n",
       "2000-02-01     5.750000\n",
       "2000-02-02     4.875000\n",
       "2000-02-03    16.750000\n",
       "2000-02-04     9.125000\n",
       "2000-02-07    -9.187500\n",
       "2000-02-08     4.562500\n",
       "2000-02-09     5.250000\n",
       "2000-02-10    -6.937500\n",
       "2000-02-11    -4.062500\n",
       "2000-02-14    -1.750000\n",
       "2000-02-15    -2.375000\n",
       "2000-02-16    -3.750000\n",
       "                ...    \n",
       "2014-11-18    -2.890015\n",
       "2014-11-19     3.490021\n",
       "2014-11-20     5.610016\n",
       "2014-11-21     6.089996\n",
       "2014-11-24     5.100006\n",
       "2014-11-25     2.410004\n",
       "2014-11-26    -2.070007\n",
       "2014-11-28     3.600006\n",
       "2014-12-01    -7.570007\n",
       "2014-12-02   -12.330017\n",
       "2014-12-03    -9.500000\n",
       "2014-12-04    -9.380005\n",
       "2014-12-05    -3.869995\n",
       "2014-12-08   -10.289978\n",
       "2014-12-09    -0.130005\n",
       "2014-12-10    -0.800018\n",
       "2014-12-11    -5.140015\n",
       "2014-12-12     1.480011\n",
       "2014-12-15    -1.289978\n",
       "2014-12-16   -12.260010\n",
       "2014-12-17    -7.190002\n",
       "2014-12-18     2.670013\n",
       "2014-12-19     1.019989\n",
       "2014-12-22     8.809998\n",
       "2014-12-23     6.390015\n",
       "2014-12-24    -3.510010\n",
       "2014-12-26     2.799988\n",
       "2014-12-29     9.010010\n",
       "2014-12-30     1.209991\n",
       "2014-12-31    -1.690002\n",
       "Name: Adj Close, Length: 3771, dtype: float64"
      ]
     },
     "execution_count": 22,
     "metadata": {},
     "output_type": "execute_result"
    }
   ],
   "source": [
    "subtract(tt[2:], tt[:-2])"
   ]
  },
  {
   "cell_type": "code",
   "execution_count": 26,
   "metadata": {},
   "outputs": [
    {
     "data": {
      "text/plain": [
       "2.0"
      ]
     },
     "execution_count": 26,
     "metadata": {},
     "output_type": "execute_result"
    }
   ],
   "source": [
    "sqrt(4)"
   ]
  },
  {
   "cell_type": "code",
   "execution_count": null,
   "metadata": {},
   "outputs": [],
   "source": []
  }
 ],
 "metadata": {
  "kernelspec": {
   "display_name": "Python 3",
   "language": "python",
   "name": "python3"
  },
  "language_info": {
   "codemirror_mode": {
    "name": "ipython",
    "version": 3
   },
   "file_extension": ".py",
   "mimetype": "text/x-python",
   "name": "python",
   "nbconvert_exporter": "python",
   "pygments_lexer": "ipython3",
   "version": "3.7.0"
  }
 },
 "nbformat": 4,
 "nbformat_minor": 2
}
