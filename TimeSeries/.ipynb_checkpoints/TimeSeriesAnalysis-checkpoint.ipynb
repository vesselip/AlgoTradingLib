{
 "cells": [
  {
   "cell_type": "code",
   "execution_count": 6,
   "metadata": {},
   "outputs": [
    {
     "data": {
      "text/plain": [
       "(0.049177585979214206,\n",
       " 0.9624149471399424,\n",
       " 1,\n",
       " 3771,\n",
       " {'1%': -3.4320852842548395,\n",
       "  '5%': -2.8623067530084247,\n",
       "  '10%': -2.5671781529820348},\n",
       " 19576.11610399192)"
      ]
     },
     "execution_count": 6,
     "metadata": {},
     "output_type": "execute_result"
    }
   ],
   "source": [
    "from __future__ import print_function\n",
    "# Import the Time Series library\n",
    "import statsmodels.tsa.stattools as ts\n",
    "# Import Datetime and the Pandas DataReader\n",
    "from datetime import datetime\n",
    "import pandas_datareader.data as web\n",
    "# https://pandas-datareader.readthedocs.io/en/latest/remote_data.html\n",
    "# Download the Amazon OHLCV data from 1/1/2000 to 1/1/2015\n",
    "amzn = web.DataReader(\"AMZN\", \"yahoo\", datetime(2000,1,1), datetime(2015,1,1))\n",
    "# Output the results of the Augmented Dickey-Fuller test for Amazon\n",
    "# with a lag order value of 1\n",
    "ts.adfuller(amzn[\"Adj Close\"], 1)"
   ]
  },
  {
   "cell_type": "code",
   "execution_count": 7,
   "metadata": {},
   "outputs": [
    {
     "name": "stdout",
     "output_type": "stream",
     "text": [
      "Hurst(GBM): 0.4990242956728916\n",
      "Hurst(MR): 0.0002018805190243427\n",
      "Hurst(TR): 0.9537762183582111\n",
      "Hurst(AMZN): 0.4543374765712559\n"
     ]
    }
   ],
   "source": [
    "from __future__ import print_function\n",
    "\n",
    "from numpy import cumsum, log, polyfit, sqrt, std, subtract\n",
    "from numpy.random import randn\n",
    "\n",
    "def hurst(ts):\n",
    "    \"\"\"Returns the Hurst Exponent of the time series vector ts\"\"\"\n",
    "    # Create the range of lag values\n",
    "    lags = range(2, 100)\n",
    "    \n",
    "    # Calculate the array of the variances of the lagged differences\n",
    "    tau = [sqrt(std(subtract(ts[lag:], ts[:-lag]))) for lag in lags]\n",
    "    \n",
    "    # Use a linear fit to estimate the Hurst Exponent\n",
    "    poly = polyfit(log(lags), log(tau), 1)\n",
    "    \n",
    "    # Return the Hurst exponent from the polyfit output\n",
    "    return poly[0]*2.0\n",
    "\n",
    "# Create a Gometric Brownian Motion, Mean-Reverting and Trending Series\n",
    "gbm = log(cumsum(randn(100000))+1000)\n",
    "mr = log(randn(100000)+1000)\n",
    "tr = log(cumsum(randn(100000)+1)+1000)\n",
    "\n",
    "# Output the Hurst Exponent for each of the above series\n",
    "# and the price of Amazon (the Adjusted Close price) for\n",
    "# the ADF test given above in the article\n",
    "print(\"Hurst(GBM): %s\" % hurst(gbm))\n",
    "print(\"Hurst(MR): %s\" % hurst(mr))\n",
    "print(\"Hurst(TR): %s\" % hurst(tr))\n",
    "\n",
    "# Assuming you have run the above code to obtain ’amzn’!\n",
    "print(\"Hurst(AMZN): %s\" % hurst(amzn[\"Adj Close\"]))"
   ]
  }
 ],
 "metadata": {
  "kernelspec": {
   "display_name": "Python 3",
   "language": "python",
   "name": "python3"
  },
  "language_info": {
   "codemirror_mode": {
    "name": "ipython",
    "version": 3
   },
   "file_extension": ".py",
   "mimetype": "text/x-python",
   "name": "python",
   "nbconvert_exporter": "python",
   "pygments_lexer": "ipython3",
   "version": "3.7.0"
  }
 },
 "nbformat": 4,
 "nbformat_minor": 2
}
